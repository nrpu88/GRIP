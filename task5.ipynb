{
 "cells": [
  {
   "cell_type": "markdown",
   "metadata": {},
   "source": [
    "# Nripesh Kumar"
   ]
  },
  {
   "cell_type": "markdown",
   "metadata": {},
   "source": [
    "## GRIP Task 5: To explore Business Analytics"
   ]
  },
  {
   "cell_type": "code",
   "execution_count": 41,
   "metadata": {},
   "outputs": [],
   "source": [
    "import pandas as pd\n",
    "import matplotlib.pyplot as plt"
   ]
  },
  {
   "cell_type": "code",
   "execution_count": 42,
   "metadata": {},
   "outputs": [
    {
     "name": "stdout",
     "output_type": "stream",
     "text": [
      "        Ship Mode    Segment        Country             City       State  \\\n",
      "0    Second Class   Consumer  United States        Henderson    Kentucky   \n",
      "1    Second Class   Consumer  United States        Henderson    Kentucky   \n",
      "2    Second Class  Corporate  United States      Los Angeles  California   \n",
      "3  Standard Class   Consumer  United States  Fort Lauderdale     Florida   \n",
      "4  Standard Class   Consumer  United States  Fort Lauderdale     Florida   \n",
      "\n",
      "   Postal Code Region         Category Sub-Category     Sales  Quantity  \\\n",
      "0        42420  South        Furniture    Bookcases  261.9600         2   \n",
      "1        42420  South        Furniture       Chairs  731.9400         3   \n",
      "2        90036   West  Office Supplies       Labels   14.6200         2   \n",
      "3        33311  South        Furniture       Tables  957.5775         5   \n",
      "4        33311  South  Office Supplies      Storage   22.3680         2   \n",
      "\n",
      "   Discount    Profit  \n",
      "0      0.00   41.9136  \n",
      "1      0.00  219.5820  \n",
      "2      0.00    6.8714  \n",
      "3      0.45 -383.0310  \n",
      "4      0.20    2.5164  \n"
     ]
    }
   ],
   "source": [
    "file = \"SampleSuperstore.csv\"\n",
    "df = pd.read_csv(file,error_bad_lines=False)\n",
    "data = df\n",
    "print(data.head(5))"
   ]
  },
  {
   "cell_type": "markdown",
   "metadata": {},
   "source": [
    "### I have assumed that the objective of the company is to increase Profit and I will be determining the attributes that affect Profit the most in order to advise the company to make informed decisions."
   ]
  },
  {
   "cell_type": "code",
   "execution_count": 43,
   "metadata": {},
   "outputs": [
    {
     "name": "stdout",
     "output_type": "stream",
     "text": [
      "(9994, 13)\n"
     ]
    },
    {
     "data": {
      "text/plain": [
       "Ship Mode       0\n",
       "Segment         0\n",
       "Country         0\n",
       "City            0\n",
       "State           0\n",
       "Postal Code     0\n",
       "Region          0\n",
       "Category        0\n",
       "Sub-Category    0\n",
       "Sales           0\n",
       "Quantity        0\n",
       "Discount        0\n",
       "Profit          0\n",
       "dtype: int64"
      ]
     },
     "execution_count": 43,
     "metadata": {},
     "output_type": "execute_result"
    }
   ],
   "source": [
    "print(data.shape)\n",
    "# checking for null values\n",
    "data.isnull().sum()"
   ]
  },
  {
   "cell_type": "code",
   "execution_count": 44,
   "metadata": {},
   "outputs": [
    {
     "name": "stdout",
     "output_type": "stream",
     "text": [
      "(9994, 9)\n"
     ]
    }
   ],
   "source": [
    "data=data[['Ship Mode','Segment','State','Category','Sub-Category','Sales','Quantity','Discount','Profit']]\n",
    "data.columns = ['ShipMode','Segment','State','Category','SubCategory','Sales','Quantity','Discount','Profit']\n",
    "print(data.shape)"
   ]
  },
  {
   "cell_type": "markdown",
   "metadata": {},
   "source": [
    "### Converting categorical-valued attributes to numerical values"
   ]
  },
  {
   "cell_type": "code",
   "execution_count": 45,
   "metadata": {},
   "outputs": [
    {
     "name": "stderr",
     "output_type": "stream",
     "text": [
      "c:\\users\\hp\\appdata\\local\\programs\\python\\python38-32\\lib\\site-packages\\pandas\\core\\generic.py:5165: SettingWithCopyWarning: \n",
      "A value is trying to be set on a copy of a slice from a DataFrame.\n",
      "Try using .loc[row_indexer,col_indexer] = value instead\n",
      "\n",
      "See the caveats in the documentation: https://pandas.pydata.org/pandas-docs/stable/user_guide/indexing.html#returning-a-view-versus-a-copy\n",
      "  self[name] = value\n",
      "<ipython-input-45-31bf2da863ed>:7: SettingWithCopyWarning: \n",
      "A value is trying to be set on a copy of a slice from a DataFrame.\n",
      "Try using .loc[row_indexer,col_indexer] = value instead\n",
      "\n",
      "See the caveats in the documentation: https://pandas.pydata.org/pandas-docs/stable/user_guide/indexing.html#returning-a-view-versus-a-copy\n",
      "  data['ShipModeCode'] = data.ShipMode.cat.codes\n",
      "<ipython-input-45-31bf2da863ed>:8: SettingWithCopyWarning: \n",
      "A value is trying to be set on a copy of a slice from a DataFrame.\n",
      "Try using .loc[row_indexer,col_indexer] = value instead\n",
      "\n",
      "See the caveats in the documentation: https://pandas.pydata.org/pandas-docs/stable/user_guide/indexing.html#returning-a-view-versus-a-copy\n",
      "  data['SegmentCode'] = data.Segment.cat.codes\n",
      "<ipython-input-45-31bf2da863ed>:9: SettingWithCopyWarning: \n",
      "A value is trying to be set on a copy of a slice from a DataFrame.\n",
      "Try using .loc[row_indexer,col_indexer] = value instead\n",
      "\n",
      "See the caveats in the documentation: https://pandas.pydata.org/pandas-docs/stable/user_guide/indexing.html#returning-a-view-versus-a-copy\n",
      "  data['StateCode'] = data.State.cat.codes\n"
     ]
    },
    {
     "name": "stdout",
     "output_type": "stream",
     "text": [
      "         ShipMode    Segment       State         Category SubCategory  \\\n",
      "0    Second Class   Consumer    Kentucky        Furniture   Bookcases   \n",
      "1    Second Class   Consumer    Kentucky        Furniture      Chairs   \n",
      "2    Second Class  Corporate  California  Office Supplies      Labels   \n",
      "3  Standard Class   Consumer     Florida        Furniture      Tables   \n",
      "4  Standard Class   Consumer     Florida  Office Supplies     Storage   \n",
      "\n",
      "      Sales  Quantity  Discount    Profit  ShipModeCode  SegmentCode  \\\n",
      "0  261.9600         2      0.00   41.9136             2            0   \n",
      "1  731.9400         3      0.00  219.5820             2            0   \n",
      "2   14.6200         2      0.00    6.8714             2            1   \n",
      "3  957.5775         5      0.45 -383.0310             3            0   \n",
      "4   22.3680         2      0.20    2.5164             3            0   \n",
      "\n",
      "   StateCode  CategoryCode  SubCategoryCode  \n",
      "0         15             0                4  \n",
      "1         15             0                5  \n",
      "2          3             1               10  \n",
      "3          8             0               16  \n",
      "4          8             1               14  \n"
     ]
    }
   ],
   "source": [
    "data.ShipMode = pd.Categorical(data.ShipMode)\n",
    "data.Segment = pd.Categorical(data.Segment)\n",
    "data.State = pd.Categorical(data.State)\n",
    "data.Category = pd.Categorical(data.Category)\n",
    "data.SubCategory = pd.Categorical(data.SubCategory)\n",
    "\n",
    "data['ShipModeCode'] = data.ShipMode.cat.codes\n",
    "data['SegmentCode'] = data.Segment.cat.codes\n",
    "data['StateCode'] = data.State.cat.codes\n",
    "data['CategoryCode'] = data.Category.cat.codes\n",
    "data['SubCategoryCode'] = data.SubCategory.cat.codes\n",
    "print(data.head(5))"
   ]
  },
  {
   "cell_type": "code",
   "execution_count": 46,
   "metadata": {},
   "outputs": [
    {
     "name": "stdout",
     "output_type": "stream",
     "text": [
      "   ShipModeCode  SegmentCode  StateCode  CategoryCode     Sales  Quantity  \\\n",
      "0             2            0         15             0  261.9600         2   \n",
      "1             2            0         15             0  731.9400         3   \n",
      "2             2            1          3             1   14.6200         2   \n",
      "3             3            0          8             0  957.5775         5   \n",
      "4             3            0          8             1   22.3680         2   \n",
      "\n",
      "   Discount    Profit  \n",
      "0      0.00   41.9136  \n",
      "1      0.00  219.5820  \n",
      "2      0.00    6.8714  \n",
      "3      0.45 -383.0310  \n",
      "4      0.20    2.5164  \n"
     ]
    }
   ],
   "source": [
    "data=data[['ShipModeCode','SegmentCode','StateCode','CategoryCode','Sales','Quantity','Discount','Profit']]\n",
    "print(data.head(5))"
   ]
  },
  {
   "cell_type": "code",
   "execution_count": 47,
   "metadata": {},
   "outputs": [
    {
     "data": {
      "text/html": [
       "<div>\n",
       "<style scoped>\n",
       "    .dataframe tbody tr th:only-of-type {\n",
       "        vertical-align: middle;\n",
       "    }\n",
       "\n",
       "    .dataframe tbody tr th {\n",
       "        vertical-align: top;\n",
       "    }\n",
       "\n",
       "    .dataframe thead th {\n",
       "        text-align: right;\n",
       "    }\n",
       "</style>\n",
       "<table border=\"1\" class=\"dataframe\">\n",
       "  <thead>\n",
       "    <tr style=\"text-align: right;\">\n",
       "      <th></th>\n",
       "      <th>ShipModeCode</th>\n",
       "      <th>SegmentCode</th>\n",
       "      <th>StateCode</th>\n",
       "      <th>CategoryCode</th>\n",
       "      <th>Sales</th>\n",
       "      <th>Quantity</th>\n",
       "      <th>Discount</th>\n",
       "      <th>Profit</th>\n",
       "    </tr>\n",
       "  </thead>\n",
       "  <tbody>\n",
       "    <tr>\n",
       "      <th>count</th>\n",
       "      <td>9994.000000</td>\n",
       "      <td>9994.000000</td>\n",
       "      <td>9994.000000</td>\n",
       "      <td>9994.000000</td>\n",
       "      <td>9994.000000</td>\n",
       "      <td>9994.000000</td>\n",
       "      <td>9994.000000</td>\n",
       "      <td>9994.000000</td>\n",
       "    </tr>\n",
       "    <tr>\n",
       "      <th>mean</th>\n",
       "      <td>2.235041</td>\n",
       "      <td>0.658995</td>\n",
       "      <td>22.343206</td>\n",
       "      <td>0.972584</td>\n",
       "      <td>229.858001</td>\n",
       "      <td>3.789574</td>\n",
       "      <td>0.156203</td>\n",
       "      <td>28.656896</td>\n",
       "    </tr>\n",
       "    <tr>\n",
       "      <th>std</th>\n",
       "      <td>1.100880</td>\n",
       "      <td>0.762622</td>\n",
       "      <td>15.504611</td>\n",
       "      <td>0.629544</td>\n",
       "      <td>623.245101</td>\n",
       "      <td>2.225110</td>\n",
       "      <td>0.206452</td>\n",
       "      <td>234.260108</td>\n",
       "    </tr>\n",
       "    <tr>\n",
       "      <th>min</th>\n",
       "      <td>0.000000</td>\n",
       "      <td>0.000000</td>\n",
       "      <td>0.000000</td>\n",
       "      <td>0.000000</td>\n",
       "      <td>0.444000</td>\n",
       "      <td>1.000000</td>\n",
       "      <td>0.000000</td>\n",
       "      <td>-6599.978000</td>\n",
       "    </tr>\n",
       "    <tr>\n",
       "      <th>25%</th>\n",
       "      <td>2.000000</td>\n",
       "      <td>0.000000</td>\n",
       "      <td>4.000000</td>\n",
       "      <td>1.000000</td>\n",
       "      <td>17.280000</td>\n",
       "      <td>2.000000</td>\n",
       "      <td>0.000000</td>\n",
       "      <td>1.728750</td>\n",
       "    </tr>\n",
       "    <tr>\n",
       "      <th>50%</th>\n",
       "      <td>3.000000</td>\n",
       "      <td>0.000000</td>\n",
       "      <td>27.000000</td>\n",
       "      <td>1.000000</td>\n",
       "      <td>54.490000</td>\n",
       "      <td>3.000000</td>\n",
       "      <td>0.200000</td>\n",
       "      <td>8.666500</td>\n",
       "    </tr>\n",
       "    <tr>\n",
       "      <th>75%</th>\n",
       "      <td>3.000000</td>\n",
       "      <td>1.000000</td>\n",
       "      <td>36.000000</td>\n",
       "      <td>1.000000</td>\n",
       "      <td>209.940000</td>\n",
       "      <td>5.000000</td>\n",
       "      <td>0.200000</td>\n",
       "      <td>29.364000</td>\n",
       "    </tr>\n",
       "    <tr>\n",
       "      <th>max</th>\n",
       "      <td>3.000000</td>\n",
       "      <td>2.000000</td>\n",
       "      <td>48.000000</td>\n",
       "      <td>2.000000</td>\n",
       "      <td>22638.480000</td>\n",
       "      <td>14.000000</td>\n",
       "      <td>0.800000</td>\n",
       "      <td>8399.976000</td>\n",
       "    </tr>\n",
       "  </tbody>\n",
       "</table>\n",
       "</div>"
      ],
      "text/plain": [
       "       ShipModeCode  SegmentCode    StateCode  CategoryCode         Sales  \\\n",
       "count   9994.000000  9994.000000  9994.000000   9994.000000   9994.000000   \n",
       "mean       2.235041     0.658995    22.343206      0.972584    229.858001   \n",
       "std        1.100880     0.762622    15.504611      0.629544    623.245101   \n",
       "min        0.000000     0.000000     0.000000      0.000000      0.444000   \n",
       "25%        2.000000     0.000000     4.000000      1.000000     17.280000   \n",
       "50%        3.000000     0.000000    27.000000      1.000000     54.490000   \n",
       "75%        3.000000     1.000000    36.000000      1.000000    209.940000   \n",
       "max        3.000000     2.000000    48.000000      2.000000  22638.480000   \n",
       "\n",
       "          Quantity     Discount       Profit  \n",
       "count  9994.000000  9994.000000  9994.000000  \n",
       "mean      3.789574     0.156203    28.656896  \n",
       "std       2.225110     0.206452   234.260108  \n",
       "min       1.000000     0.000000 -6599.978000  \n",
       "25%       2.000000     0.000000     1.728750  \n",
       "50%       3.000000     0.200000     8.666500  \n",
       "75%       5.000000     0.200000    29.364000  \n",
       "max      14.000000     0.800000  8399.976000  "
      ]
     },
     "execution_count": 47,
     "metadata": {},
     "output_type": "execute_result"
    }
   ],
   "source": [
    "data.describe()"
   ]
  },
  {
   "cell_type": "markdown",
   "metadata": {},
   "source": [
    "### Using correlation matrix to identify important features that impact Profit"
   ]
  },
  {
   "cell_type": "code",
   "execution_count": 48,
   "metadata": {},
   "outputs": [
    {
     "data": {
      "image/png": "[encoded data removed]",
      "text/plain": [
       "<Figure size 720x720 with 2 Axes>"
      ]
     },
     "metadata": {},
     "output_type": "display_data"
    }
   ],
   "source": [
    "import seaborn as sns\n",
    "fig, ax = plt.subplots(figsize=(10,10))\n",
    "corrM = data.corr()\n",
    " \n",
    "ax.tick_params(axis='x', colors='white')\n",
    "ax.tick_params(axis='y', colors='white')\n",
    "#plot heat map\n",
    "g=sns.heatmap(corrM,annot=True,cmap=\"RdYlGn\")"
   ]
  },
  {
   "cell_type": "markdown",
   "metadata": {},
   "source": [
    "### From the correlation matrix it can be seen that Sales > Category > Quantity play significant role in determining Profit "
   ]
  },
  {
   "cell_type": "code",
   "execution_count": 49,
   "metadata": {},
   "outputs": [
    {
     "data": {
      "text/html": [
       "<div>\n",
       "<style scoped>\n",
       "    .dataframe tbody tr th:only-of-type {\n",
       "        vertical-align: middle;\n",
       "    }\n",
       "\n",
       "    .dataframe tbody tr th {\n",
       "        vertical-align: top;\n",
       "    }\n",
       "\n",
       "    .dataframe thead th {\n",
       "        text-align: right;\n",
       "    }\n",
       "</style>\n",
       "<table border=\"1\" class=\"dataframe\">\n",
       "  <thead>\n",
       "    <tr style=\"text-align: right;\">\n",
       "      <th></th>\n",
       "      <th>ShipModeCode</th>\n",
       "      <th>SegmentCode</th>\n",
       "      <th>StateCode</th>\n",
       "      <th>CategoryCode</th>\n",
       "      <th>Sales</th>\n",
       "      <th>Quantity</th>\n",
       "      <th>Discount</th>\n",
       "      <th>Profit</th>\n",
       "    </tr>\n",
       "  </thead>\n",
       "  <tbody>\n",
       "    <tr>\n",
       "      <th>count</th>\n",
       "      <td>9994.000000</td>\n",
       "      <td>9994.000000</td>\n",
       "      <td>9994.000000</td>\n",
       "      <td>9994.000000</td>\n",
       "      <td>9994.000000</td>\n",
       "      <td>9994.000000</td>\n",
       "      <td>9994.000000</td>\n",
       "      <td>9994.000000</td>\n",
       "    </tr>\n",
       "    <tr>\n",
       "      <th>mean</th>\n",
       "      <td>2.235041</td>\n",
       "      <td>0.658995</td>\n",
       "      <td>22.343206</td>\n",
       "      <td>0.972584</td>\n",
       "      <td>229.858001</td>\n",
       "      <td>3.789574</td>\n",
       "      <td>0.156203</td>\n",
       "      <td>28.656896</td>\n",
       "    </tr>\n",
       "    <tr>\n",
       "      <th>std</th>\n",
       "      <td>1.100880</td>\n",
       "      <td>0.762622</td>\n",
       "      <td>15.504611</td>\n",
       "      <td>0.629544</td>\n",
       "      <td>623.245101</td>\n",
       "      <td>2.225110</td>\n",
       "      <td>0.206452</td>\n",
       "      <td>234.260108</td>\n",
       "    </tr>\n",
       "    <tr>\n",
       "      <th>min</th>\n",
       "      <td>0.000000</td>\n",
       "      <td>0.000000</td>\n",
       "      <td>0.000000</td>\n",
       "      <td>0.000000</td>\n",
       "      <td>0.444000</td>\n",
       "      <td>1.000000</td>\n",
       "      <td>0.000000</td>\n",
       "      <td>-6599.978000</td>\n",
       "    </tr>\n",
       "    <tr>\n",
       "      <th>25%</th>\n",
       "      <td>2.000000</td>\n",
       "      <td>0.000000</td>\n",
       "      <td>4.000000</td>\n",
       "      <td>1.000000</td>\n",
       "      <td>17.280000</td>\n",
       "      <td>2.000000</td>\n",
       "      <td>0.000000</td>\n",
       "      <td>1.728750</td>\n",
       "    </tr>\n",
       "    <tr>\n",
       "      <th>50%</th>\n",
       "      <td>3.000000</td>\n",
       "      <td>0.000000</td>\n",
       "      <td>27.000000</td>\n",
       "      <td>1.000000</td>\n",
       "      <td>54.490000</td>\n",
       "      <td>3.000000</td>\n",
       "      <td>0.200000</td>\n",
       "      <td>8.666500</td>\n",
       "    </tr>\n",
       "    <tr>\n",
       "      <th>75%</th>\n",
       "      <td>3.000000</td>\n",
       "      <td>1.000000</td>\n",
       "      <td>36.000000</td>\n",
       "      <td>1.000000</td>\n",
       "      <td>209.940000</td>\n",
       "      <td>5.000000</td>\n",
       "      <td>0.200000</td>\n",
       "      <td>29.364000</td>\n",
       "    </tr>\n",
       "    <tr>\n",
       "      <th>max</th>\n",
       "      <td>3.000000</td>\n",
       "      <td>2.000000</td>\n",
       "      <td>48.000000</td>\n",
       "      <td>2.000000</td>\n",
       "      <td>22638.480000</td>\n",
       "      <td>14.000000</td>\n",
       "      <td>0.800000</td>\n",
       "      <td>8399.976000</td>\n",
       "    </tr>\n",
       "  </tbody>\n",
       "</table>\n",
       "</div>"
      ],
      "text/plain": [
       "       ShipModeCode  SegmentCode    StateCode  CategoryCode         Sales  \\\n",
       "count   9994.000000  9994.000000  9994.000000   9994.000000   9994.000000   \n",
       "mean       2.235041     0.658995    22.343206      0.972584    229.858001   \n",
       "std        1.100880     0.762622    15.504611      0.629544    623.245101   \n",
       "min        0.000000     0.000000     0.000000      0.000000      0.444000   \n",
       "25%        2.000000     0.000000     4.000000      1.000000     17.280000   \n",
       "50%        3.000000     0.000000    27.000000      1.000000     54.490000   \n",
       "75%        3.000000     1.000000    36.000000      1.000000    209.940000   \n",
       "max        3.000000     2.000000    48.000000      2.000000  22638.480000   \n",
       "\n",
       "          Quantity     Discount       Profit  \n",
       "count  9994.000000  9994.000000  9994.000000  \n",
       "mean      3.789574     0.156203    28.656896  \n",
       "std       2.225110     0.206452   234.260108  \n",
       "min       1.000000     0.000000 -6599.978000  \n",
       "25%       2.000000     0.000000     1.728750  \n",
       "50%       3.000000     0.200000     8.666500  \n",
       "75%       5.000000     0.200000    29.364000  \n",
       "max      14.000000     0.800000  8399.976000  "
      ]
     },
     "execution_count": 49,
     "metadata": {},
     "output_type": "execute_result"
    }
   ],
   "source": [
    "data.describe()\n",
    "# [0:ShipModeCode,1:SegmentCode,2:StateCode,3:CategoryCode,4:Sales,5:Quantity,6:Discount,7:Profit]"
   ]
  },
  {
   "cell_type": "code",
   "execution_count": 50,
   "metadata": {},
   "outputs": [],
   "source": [
    "from sklearn.datasets import make_classification\n",
    "from sklearn.neighbors import KNeighborsClassifier\n",
    "from sklearn.inspection import permutation_importance\n",
    "from matplotlib import pyplot\n",
    "from sklearn import preprocessing\n",
    "\n",
    "X = data.drop(['Profit'],axis=1).values.tolist()\n",
    "y = data['Profit'].values.tolist()\n",
    "\n",
    "lab_enc = preprocessing.LabelEncoder()\n",
    "y = lab_enc.fit_transform(y)\n"
   ]
  },
  {
   "cell_type": "markdown",
   "metadata": {},
   "source": [
    "### Using K-Neighbour Classifier to identify important features and printing their importance scores"
   ]
  },
  {
   "cell_type": "code",
   "execution_count": 51,
   "metadata": {},
   "outputs": [
    {
     "name": "stdout",
     "output_type": "stream",
     "text": [
      "Feature: 0, Score: 0.02638\n",
      "Feature: 1, Score: 0.01035\n",
      "Feature: 2, Score: 0.18565\n",
      "Feature: 3, Score: 0.00204\n",
      "Feature: 4, Score: 0.24661\n",
      "Feature: 5, Score: 0.08443\n",
      "Feature: 6, Score: -0.00284\n"
     ]
    },
    {
     "data": {
      "image/png": "[encoded data removed]",
      "text/plain": [
       "<Figure size 432x288 with 1 Axes>"
      ]
     },
     "metadata": {
      "needs_background": "light"
     },
     "output_type": "display_data"
    }
   ],
   "source": [
    "# define the model\n",
    "model = KNeighborsClassifier()\n",
    "# fit the model\n",
    "model.fit(X, y)\n",
    "# perform permutation importance\n",
    "results = permutation_importance(model, X, y, scoring='accuracy')\n",
    "# get importance\n",
    "importance = results.importances_mean\n",
    "# summarize feature importance\n",
    "for i,v in enumerate(importance):\n",
    "\tprint('Feature: %0d, Score: %.5f' % (i,v))\n",
    "# plot feature importance\n",
    "pyplot.bar([x for x in range(len(importance))], importance)\n",
    "pyplot.show()"
   ]
  },
  {
   "cell_type": "markdown",
   "metadata": {},
   "source": [
    "### Sales > State > Quantity impact Profit"
   ]
  },
  {
   "cell_type": "markdown",
   "metadata": {},
   "source": [
    "### Using K-Neighbour Regressor to identify important features and printing their importance scores"
   ]
  },
  {
   "cell_type": "code",
   "execution_count": 52,
   "metadata": {},
   "outputs": [
    {
     "name": "stdout",
     "output_type": "stream",
     "text": [
      "Feature: 0, Score: 37280.17358\n",
      "Feature: 1, Score: 4603.50915\n",
      "Feature: 2, Score: 1490290.27448\n",
      "Feature: 3, Score: 41328.75726\n",
      "Feature: 4, Score: 3174507.83985\n",
      "Feature: 5, Score: 264662.04900\n",
      "Feature: 6, Score: 16613.72365\n"
     ]
    },
    {
     "data": {
      "image/png": "[encoded data removed]",
      "text/plain": [
       "<Figure size 432x288 with 1 Axes>"
      ]
     },
     "metadata": {
      "needs_background": "light"
     },
     "output_type": "display_data"
    }
   ],
   "source": [
    "\n",
    "# permutation feature importance with knn for regression\n",
    "from sklearn.datasets import make_regression\n",
    "from sklearn.neighbors import KNeighborsRegressor\n",
    "from sklearn.inspection import permutation_importance\n",
    "from matplotlib import pyplot\n",
    "\n",
    "# define the model\n",
    "model = KNeighborsRegressor()\n",
    "# fit the model\n",
    "model.fit(X, y)\n",
    "# perform permutation importance\n",
    "results = permutation_importance(model, X, y, scoring='neg_mean_squared_error')\n",
    "# get importance\n",
    "importance = results.importances_mean\n",
    "# summarize feature importance\n",
    "for i,v in enumerate(importance):\n",
    "\tprint('Feature: %0d, Score: %.5f' % (i,v))\n",
    "# plot feature importance\n",
    "pyplot.bar([x for x in range(len(importance))], importance)\n",
    "pyplot.show()"
   ]
  },
  {
   "cell_type": "markdown",
   "metadata": {},
   "source": [
    "### Sales > State > Quantity impact Profit"
   ]
  },
  {
   "cell_type": "markdown",
   "metadata": {},
   "source": [
    "### Using Decision Tree Classifier to identify the important features"
   ]
  },
  {
   "cell_type": "code",
   "execution_count": 53,
   "metadata": {},
   "outputs": [
    {
     "name": "stdout",
     "output_type": "stream",
     "text": [
      "Feature: 0, Score: 0.01450\n",
      "Feature: 1, Score: 0.02186\n",
      "Feature: 2, Score: 0.04940\n",
      "Feature: 3, Score: 0.04596\n",
      "Feature: 4, Score: 0.76589\n",
      "Feature: 5, Score: 0.04878\n",
      "Feature: 6, Score: 0.05360\n"
     ]
    },
    {
     "data": {
      "image/png": "[encoded data removed]",
      "text/plain": [
       "<Figure size 432x288 with 1 Axes>"
      ]
     },
     "metadata": {
      "needs_background": "light"
     },
     "output_type": "display_data"
    }
   ],
   "source": [
    "\n",
    "# random forest for feature importance on a classification problem\n",
    "from sklearn.datasets import make_classification\n",
    "from sklearn.tree import DecisionTreeClassifier\n",
    "from matplotlib import pyplot\n",
    "# define the model\n",
    "model = DecisionTreeClassifier(max_depth=10,max_features=6, min_samples_split=3, min_samples_leaf=2)\n",
    "# fit the model\n",
    "model.fit(X, y)\n",
    "# get importance\n",
    "importance = model.feature_importances_\n",
    "# summarize feature importance\n",
    "for i,v in enumerate(importance):\n",
    "\tprint('Feature: %0d, Score: %.5f' % (i,v))\n",
    "# plot feature importance\n",
    "pyplot.bar([x for x in range(len(importance))], importance)\n",
    "pyplot.show()\n",
    "\n",
    "\n",
    "# [0:ShipModeCode,1:SegmentCode,2:StateCode,3:CategoryCode,4:Sales,5:Quantity,6:Discount,7:Profit]"
   ]
  },
  {
   "cell_type": "markdown",
   "metadata": {},
   "source": [
    "### Sales > Discount > State impact Profit"
   ]
  },
  {
   "cell_type": "markdown",
   "metadata": {},
   "source": [
    "### Using Random Forest Classifier and Regressor to identify important features\n",
    "#### The parameters of the models have been adjusted to avoid memory leaks and obtain reliable results"
   ]
  },
  {
   "cell_type": "code",
   "execution_count": 54,
   "metadata": {},
   "outputs": [
    {
     "name": "stdout",
     "output_type": "stream",
     "text": [
      "Feature: 0, Score: 0.00591\n",
      "Feature: 1, Score: 0.00460\n",
      "Feature: 2, Score: 0.01921\n",
      "Feature: 3, Score: 0.03587\n",
      "Feature: 4, Score: 0.44875\n",
      "Feature: 5, Score: 0.02771\n",
      "Feature: 6, Score: 0.45795\n"
     ]
    },
    {
     "data": {
      "image/png": "[encoded data removed]",
      "text/plain": [
       "<Figure size 432x288 with 1 Axes>"
      ]
     },
     "metadata": {
      "needs_background": "light"
     },
     "output_type": "display_data"
    }
   ],
   "source": [
    "from sklearn.ensemble import RandomForestRegressor\n",
    "from sklearn.ensemble import RandomForestClassifier\n",
    "model = RandomForestRegressor(max_depth=10,max_features=6, min_samples_split=3, min_samples_leaf=2)\n",
    "# fit the model\n",
    "model.fit(X, y)\n",
    "# get importance\n",
    "importance = model.feature_importances_\n",
    "# summarize feature importance\n",
    "for i,v in enumerate(importance):\n",
    "\tprint('Feature: %0d, Score: %.5f' % (i,v))\n",
    "# plot feature importance\n",
    "pyplot.bar([x for x in range(len(importance))], importance)\n",
    "pyplot.show()"
   ]
  },
  {
   "cell_type": "markdown",
   "metadata": {},
   "source": [
    "### Analysis : Discount >= Sales > Category impact Profit"
   ]
  },
  {
   "cell_type": "code",
   "execution_count": 55,
   "metadata": {},
   "outputs": [
    {
     "name": "stdout",
     "output_type": "stream",
     "text": [
      "Feature: 0, Score: 0.00391\n",
      "Feature: 1, Score: 0.00344\n",
      "Feature: 2, Score: 0.00979\n",
      "Feature: 3, Score: 0.00606\n",
      "Feature: 4, Score: 0.91756\n",
      "Feature: 5, Score: 0.03341\n",
      "Feature: 6, Score: 0.02583\n"
     ]
    },
    {
     "data": {
      "image/png": "[encoded data removed]",
      "text/plain": [
       "<Figure size 432x288 with 1 Axes>"
      ]
     },
     "metadata": {
      "needs_background": "light"
     },
     "output_type": "display_data"
    }
   ],
   "source": [
    "model = RandomForestClassifier(max_depth=4,max_features=6, min_samples_split=2, min_samples_leaf=2)\n",
    "# fit the model\n",
    "model.fit(X, y)\n",
    "# get importance\n",
    "importance = model.feature_importances_\n",
    "# summarize feature importance\n",
    "for i,v in enumerate(importance):\n",
    "\tprint('Feature: %0d, Score: %.5f' % (i,v))\n",
    "# plot feature importance\n",
    "pyplot.bar([x for x in range(len(importance))], importance)\n",
    "pyplot.show()"
   ]
  },
  {
   "cell_type": "markdown",
   "metadata": {},
   "source": [
    "### Analysis: Sales >> Discount >= Quantity for Profit Impact"
   ]
  },
  {
   "cell_type": "markdown",
   "metadata": {},
   "source": [
    "### Conclusion: From the constructed models it can be inferred that the following attributes: Sales, Discount and State affect Profit the most."
   ]
  },
  {
   "cell_type": "code",
   "execution_count": 56,
   "metadata": {},
   "outputs": [
    {
     "data": {
      "text/html": [
       "<div>\n",
       "<style scoped>\n",
       "    .dataframe tbody tr th:only-of-type {\n",
       "        vertical-align: middle;\n",
       "    }\n",
       "\n",
       "    .dataframe tbody tr th {\n",
       "        vertical-align: top;\n",
       "    }\n",
       "\n",
       "    .dataframe thead th {\n",
       "        text-align: right;\n",
       "    }\n",
       "</style>\n",
       "<table border=\"1\" class=\"dataframe\">\n",
       "  <thead>\n",
       "    <tr style=\"text-align: right;\">\n",
       "      <th></th>\n",
       "      <th>Ship Mode</th>\n",
       "      <th>Segment</th>\n",
       "      <th>Country</th>\n",
       "      <th>City</th>\n",
       "      <th>State</th>\n",
       "      <th>Postal Code</th>\n",
       "      <th>Region</th>\n",
       "      <th>Category</th>\n",
       "      <th>Sub-Category</th>\n",
       "      <th>Sales</th>\n",
       "      <th>Quantity</th>\n",
       "      <th>Discount</th>\n",
       "      <th>Profit</th>\n",
       "    </tr>\n",
       "  </thead>\n",
       "  <tbody>\n",
       "    <tr>\n",
       "      <th>0</th>\n",
       "      <td>Second Class</td>\n",
       "      <td>Consumer</td>\n",
       "      <td>United States</td>\n",
       "      <td>Henderson</td>\n",
       "      <td>Kentucky</td>\n",
       "      <td>42420</td>\n",
       "      <td>South</td>\n",
       "      <td>Furniture</td>\n",
       "      <td>Bookcases</td>\n",
       "      <td>261.9600</td>\n",
       "      <td>2</td>\n",
       "      <td>0.00</td>\n",
       "      <td>41.9136</td>\n",
       "    </tr>\n",
       "    <tr>\n",
       "      <th>1</th>\n",
       "      <td>Second Class</td>\n",
       "      <td>Consumer</td>\n",
       "      <td>United States</td>\n",
       "      <td>Henderson</td>\n",
       "      <td>Kentucky</td>\n",
       "      <td>42420</td>\n",
       "      <td>South</td>\n",
       "      <td>Furniture</td>\n",
       "      <td>Chairs</td>\n",
       "      <td>731.9400</td>\n",
       "      <td>3</td>\n",
       "      <td>0.00</td>\n",
       "      <td>219.5820</td>\n",
       "    </tr>\n",
       "    <tr>\n",
       "      <th>2</th>\n",
       "      <td>Second Class</td>\n",
       "      <td>Corporate</td>\n",
       "      <td>United States</td>\n",
       "      <td>Los Angeles</td>\n",
       "      <td>California</td>\n",
       "      <td>90036</td>\n",
       "      <td>West</td>\n",
       "      <td>Office Supplies</td>\n",
       "      <td>Labels</td>\n",
       "      <td>14.6200</td>\n",
       "      <td>2</td>\n",
       "      <td>0.00</td>\n",
       "      <td>6.8714</td>\n",
       "    </tr>\n",
       "    <tr>\n",
       "      <th>3</th>\n",
       "      <td>Standard Class</td>\n",
       "      <td>Consumer</td>\n",
       "      <td>United States</td>\n",
       "      <td>Fort Lauderdale</td>\n",
       "      <td>Florida</td>\n",
       "      <td>33311</td>\n",
       "      <td>South</td>\n",
       "      <td>Furniture</td>\n",
       "      <td>Tables</td>\n",
       "      <td>957.5775</td>\n",
       "      <td>5</td>\n",
       "      <td>0.45</td>\n",
       "      <td>-383.0310</td>\n",
       "    </tr>\n",
       "    <tr>\n",
       "      <th>4</th>\n",
       "      <td>Standard Class</td>\n",
       "      <td>Consumer</td>\n",
       "      <td>United States</td>\n",
       "      <td>Fort Lauderdale</td>\n",
       "      <td>Florida</td>\n",
       "      <td>33311</td>\n",
       "      <td>South</td>\n",
       "      <td>Office Supplies</td>\n",
       "      <td>Storage</td>\n",
       "      <td>22.3680</td>\n",
       "      <td>2</td>\n",
       "      <td>0.20</td>\n",
       "      <td>2.5164</td>\n",
       "    </tr>\n",
       "    <tr>\n",
       "      <th>...</th>\n",
       "      <td>...</td>\n",
       "      <td>...</td>\n",
       "      <td>...</td>\n",
       "      <td>...</td>\n",
       "      <td>...</td>\n",
       "      <td>...</td>\n",
       "      <td>...</td>\n",
       "      <td>...</td>\n",
       "      <td>...</td>\n",
       "      <td>...</td>\n",
       "      <td>...</td>\n",
       "      <td>...</td>\n",
       "      <td>...</td>\n",
       "    </tr>\n",
       "    <tr>\n",
       "      <th>9989</th>\n",
       "      <td>Second Class</td>\n",
       "      <td>Consumer</td>\n",
       "      <td>United States</td>\n",
       "      <td>Miami</td>\n",
       "      <td>Florida</td>\n",
       "      <td>33180</td>\n",
       "      <td>South</td>\n",
       "      <td>Furniture</td>\n",
       "      <td>Furnishings</td>\n",
       "      <td>25.2480</td>\n",
       "      <td>3</td>\n",
       "      <td>0.20</td>\n",
       "      <td>4.1028</td>\n",
       "    </tr>\n",
       "    <tr>\n",
       "      <th>9990</th>\n",
       "      <td>Standard Class</td>\n",
       "      <td>Consumer</td>\n",
       "      <td>United States</td>\n",
       "      <td>Costa Mesa</td>\n",
       "      <td>California</td>\n",
       "      <td>92627</td>\n",
       "      <td>West</td>\n",
       "      <td>Furniture</td>\n",
       "      <td>Furnishings</td>\n",
       "      <td>91.9600</td>\n",
       "      <td>2</td>\n",
       "      <td>0.00</td>\n",
       "      <td>15.6332</td>\n",
       "    </tr>\n",
       "    <tr>\n",
       "      <th>9991</th>\n",
       "      <td>Standard Class</td>\n",
       "      <td>Consumer</td>\n",
       "      <td>United States</td>\n",
       "      <td>Costa Mesa</td>\n",
       "      <td>California</td>\n",
       "      <td>92627</td>\n",
       "      <td>West</td>\n",
       "      <td>Technology</td>\n",
       "      <td>Phones</td>\n",
       "      <td>258.5760</td>\n",
       "      <td>2</td>\n",
       "      <td>0.20</td>\n",
       "      <td>19.3932</td>\n",
       "    </tr>\n",
       "    <tr>\n",
       "      <th>9992</th>\n",
       "      <td>Standard Class</td>\n",
       "      <td>Consumer</td>\n",
       "      <td>United States</td>\n",
       "      <td>Costa Mesa</td>\n",
       "      <td>California</td>\n",
       "      <td>92627</td>\n",
       "      <td>West</td>\n",
       "      <td>Office Supplies</td>\n",
       "      <td>Paper</td>\n",
       "      <td>29.6000</td>\n",
       "      <td>4</td>\n",
       "      <td>0.00</td>\n",
       "      <td>13.3200</td>\n",
       "    </tr>\n",
       "    <tr>\n",
       "      <th>9993</th>\n",
       "      <td>Second Class</td>\n",
       "      <td>Consumer</td>\n",
       "      <td>United States</td>\n",
       "      <td>Westminster</td>\n",
       "      <td>California</td>\n",
       "      <td>92683</td>\n",
       "      <td>West</td>\n",
       "      <td>Office Supplies</td>\n",
       "      <td>Appliances</td>\n",
       "      <td>243.1600</td>\n",
       "      <td>2</td>\n",
       "      <td>0.00</td>\n",
       "      <td>72.9480</td>\n",
       "    </tr>\n",
       "  </tbody>\n",
       "</table>\n",
       "<p>9994 rows × 13 columns</p>\n",
       "</div>"
      ],
      "text/plain": [
       "           Ship Mode    Segment        Country             City       State  \\\n",
       "0       Second Class   Consumer  United States        Henderson    Kentucky   \n",
       "1       Second Class   Consumer  United States        Henderson    Kentucky   \n",
       "2       Second Class  Corporate  United States      Los Angeles  California   \n",
       "3     Standard Class   Consumer  United States  Fort Lauderdale     Florida   \n",
       "4     Standard Class   Consumer  United States  Fort Lauderdale     Florida   \n",
       "...              ...        ...            ...              ...         ...   \n",
       "9989    Second Class   Consumer  United States            Miami     Florida   \n",
       "9990  Standard Class   Consumer  United States       Costa Mesa  California   \n",
       "9991  Standard Class   Consumer  United States       Costa Mesa  California   \n",
       "9992  Standard Class   Consumer  United States       Costa Mesa  California   \n",
       "9993    Second Class   Consumer  United States      Westminster  California   \n",
       "\n",
       "      Postal Code Region         Category Sub-Category     Sales  Quantity  \\\n",
       "0           42420  South        Furniture    Bookcases  261.9600         2   \n",
       "1           42420  South        Furniture       Chairs  731.9400         3   \n",
       "2           90036   West  Office Supplies       Labels   14.6200         2   \n",
       "3           33311  South        Furniture       Tables  957.5775         5   \n",
       "4           33311  South  Office Supplies      Storage   22.3680         2   \n",
       "...           ...    ...              ...          ...       ...       ...   \n",
       "9989        33180  South        Furniture  Furnishings   25.2480         3   \n",
       "9990        92627   West        Furniture  Furnishings   91.9600         2   \n",
       "9991        92627   West       Technology       Phones  258.5760         2   \n",
       "9992        92627   West  Office Supplies        Paper   29.6000         4   \n",
       "9993        92683   West  Office Supplies   Appliances  243.1600         2   \n",
       "\n",
       "      Discount    Profit  \n",
       "0         0.00   41.9136  \n",
       "1         0.00  219.5820  \n",
       "2         0.00    6.8714  \n",
       "3         0.45 -383.0310  \n",
       "4         0.20    2.5164  \n",
       "...        ...       ...  \n",
       "9989      0.20    4.1028  \n",
       "9990      0.00   15.6332  \n",
       "9991      0.20   19.3932  \n",
       "9992      0.00   13.3200  \n",
       "9993      0.00   72.9480  \n",
       "\n",
       "[9994 rows x 13 columns]"
      ]
     },
     "execution_count": 56,
     "metadata": {},
     "output_type": "execute_result"
    }
   ],
   "source": [
    "df"
   ]
  },
  {
   "cell_type": "markdown",
   "metadata": {},
   "source": [
    "### Plotting the regional states on which the company can direct its efforts to increase profits"
   ]
  },
  {
   "cell_type": "code",
   "execution_count": 57,
   "metadata": {},
   "outputs": [
    {
     "data": {
      "text/html": [
       "<div>\n",
       "<style scoped>\n",
       "    .dataframe tbody tr th:only-of-type {\n",
       "        vertical-align: middle;\n",
       "    }\n",
       "\n",
       "    .dataframe tbody tr th {\n",
       "        vertical-align: top;\n",
       "    }\n",
       "\n",
       "    .dataframe thead th {\n",
       "        text-align: right;\n",
       "    }\n",
       "</style>\n",
       "<table border=\"1\" class=\"dataframe\">\n",
       "  <thead>\n",
       "    <tr style=\"text-align: right;\">\n",
       "      <th></th>\n",
       "      <th>State</th>\n",
       "      <th>Latitude</th>\n",
       "      <th>Longitude</th>\n",
       "      <th>City</th>\n",
       "    </tr>\n",
       "  </thead>\n",
       "  <tbody>\n",
       "    <tr>\n",
       "      <th>0</th>\n",
       "      <td>AL</td>\n",
       "      <td>32.601011</td>\n",
       "      <td>-86.680736</td>\n",
       "      <td>Alabama</td>\n",
       "    </tr>\n",
       "    <tr>\n",
       "      <th>1</th>\n",
       "      <td>AK</td>\n",
       "      <td>61.302501</td>\n",
       "      <td>-158.775020</td>\n",
       "      <td>Alaska</td>\n",
       "    </tr>\n",
       "    <tr>\n",
       "      <th>2</th>\n",
       "      <td>AZ</td>\n",
       "      <td>34.168219</td>\n",
       "      <td>-111.930907</td>\n",
       "      <td>Arizona</td>\n",
       "    </tr>\n",
       "    <tr>\n",
       "      <th>3</th>\n",
       "      <td>AR</td>\n",
       "      <td>34.751928</td>\n",
       "      <td>-92.131378</td>\n",
       "      <td>Arkansas</td>\n",
       "    </tr>\n",
       "    <tr>\n",
       "      <th>4</th>\n",
       "      <td>CA</td>\n",
       "      <td>37.271875</td>\n",
       "      <td>-119.270415</td>\n",
       "      <td>California</td>\n",
       "    </tr>\n",
       "  </tbody>\n",
       "</table>\n",
       "</div>"
      ],
      "text/plain": [
       "  State   Latitude   Longitude        City\n",
       "0    AL  32.601011  -86.680736     Alabama\n",
       "1    AK  61.302501 -158.775020      Alaska\n",
       "2    AZ  34.168219 -111.930907     Arizona\n",
       "3    AR  34.751928  -92.131378    Arkansas\n",
       "4    CA  37.271875 -119.270415  California"
      ]
     },
     "execution_count": 57,
     "metadata": {},
     "output_type": "execute_result"
    }
   ],
   "source": [
    "import folium\n",
    "map=folium.Map(location=[37.0902,-95.7129],zoom_start=5)\n",
    "states=pd.read_csv('statelatlong.csv')\n",
    "states.head()"
   ]
  },
  {
   "cell_type": "code",
   "execution_count": 58,
   "metadata": {},
   "outputs": [],
   "source": [
    "latitude = 20.0902\n",
    "longitude = -80.7129\n",
    "map = folium.Map(location=[latitude, longitude], zoom_start=4.2)\n",
    "\n",
    "#Red colour for locations with loss and green for locations with profit.\n",
    "def color(temp):\n",
    "  if temp>0:\n",
    "    return 'blue'\n",
    "  else:\n",
    "    return 'red'\n",
    "\n",
    "for city in states['City']:\n",
    "  profit=df.loc[df['State'] == city, 'Profit'].sum()\n",
    "  folium.Marker([states.loc[states['City']==city,'Latitude'].iloc[0],states.loc[states['City']==city,'Longitude'].iloc[0]],\n",
    "                folium.Popup(profit),\n",
    "                icon=folium.Icon(color=color(profit))).add_to(map)"
   ]
  },
  {
   "cell_type": "code",
   "execution_count": 59,
   "metadata": {},
   "outputs": [
    {
     "data": {
      "text/html": [
       "<div style=\"width:100%;\"><div style=\"position:relative;width:100%;height:0;padding-bottom:60%;\"><span style=\"color:#565656\">Make this Notebook Trusted to load map: File -> Trust Notebook</span><iframe src=\"about:blank\" style=\"position:absolute;width:100%;height:100%;left:0;top:0;border:none !important;\" data-html=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 onload=\"this.contentDocument.open();this.contentDocument.write(atob(this.getAttribute('data-html')));this.contentDocument.close();\" allowfullscreen webkitallowfullscreen mozallowfullscreen></iframe></div></div>"
      ],
      "text/plain": [
       "<folium.folium.Map at 0x150ecc10>"
      ]
     },
     "execution_count": 59,
     "metadata": {},
     "output_type": "execute_result"
    }
   ],
   "source": [
    "map"
   ]
  },
  {
   "cell_type": "markdown",
   "metadata": {},
   "source": [
    "### From the map it can be observed that states in the East and the South have been facing losses and therefore the company can increase Profits by managing the Sales and Discount in these regions"
   ]
  },
  {
   "cell_type": "markdown",
   "metadata": {},
   "source": [
    "## Task Completed"
   ]
  }
 ],
 "metadata": {
  "kernelspec": {
   "display_name": "Python 3",
   "language": "python",
   "name": "python3"
  },
  "language_info": {
   "codemirror_mode": {
    "name": "ipython",
    "version": 3
   },
   "file_extension": ".py",
   "mimetype": "text/x-python",
   "name": "python",
   "nbconvert_exporter": "python",
   "pygments_lexer": "ipython3",
   "version": "3.8.5"
  }
 },
 "nbformat": 4,
 "nbformat_minor": 4
}
