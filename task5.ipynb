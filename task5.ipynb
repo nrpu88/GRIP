{
 "cells": [
  {
   "cell_type": "markdown",
   "metadata": {},
   "source": [
    "# Nripesh Kumar"
   ]
  },
  {
   "cell_type": "markdown",
   "metadata": {},
   "source": [
    "## GRIP Task 5: To explore Business Analytics"
   ]
  },
  {
   "cell_type": "code",
   "execution_count": 60,
   "metadata": {},
   "outputs": [],
   "source": [
    "import pandas as pd\n",
    "import matplotlib.pyplot as plt"
   ]
  },
  {
   "cell_type": "code",
   "execution_count": 61,
   "metadata": {},
   "outputs": [
    {
     "name": "stdout",
     "output_type": "stream",
     "text": [
      "        Ship Mode    Segment        Country             City       State  \\\n",
      "0    Second Class   Consumer  United States        Henderson    Kentucky   \n",
      "1    Second Class   Consumer  United States        Henderson    Kentucky   \n",
      "2    Second Class  Corporate  United States      Los Angeles  California   \n",
      "3  Standard Class   Consumer  United States  Fort Lauderdale     Florida   \n",
      "4  Standard Class   Consumer  United States  Fort Lauderdale     Florida   \n",
      "\n",
      "   Postal Code Region         Category Sub-Category     Sales  Quantity  \\\n",
      "0        42420  South        Furniture    Bookcases  261.9600         2   \n",
      "1        42420  South        Furniture       Chairs  731.9400         3   \n",
      "2        90036   West  Office Supplies       Labels   14.6200         2   \n",
      "3        33311  South        Furniture       Tables  957.5775         5   \n",
      "4        33311  South  Office Supplies      Storage   22.3680         2   \n",
      "\n",
      "   Discount    Profit  \n",
      "0      0.00   41.9136  \n",
      "1      0.00  219.5820  \n",
      "2      0.00    6.8714  \n",
      "3      0.45 -383.0310  \n",
      "4      0.20    2.5164  \n"
     ]
    }
   ],
   "source": [
    "file = \"SampleSuperstore.csv\"\n",
    "df = pd.read_csv(file,error_bad_lines=False)\n",
    "data = df\n",
    "print(data.head(5))"
   ]
  },
  {
   "cell_type": "markdown",
   "metadata": {},
   "source": [
    "### I have assumed that the objective of the company is to increase Profit and I will be determining the attributes that affect Profit the most in order to advise the company to make informed decisions."
   ]
  },
  {
   "cell_type": "code",
   "execution_count": 62,
   "metadata": {},
   "outputs": [
    {
     "name": "stdout",
     "output_type": "stream",
     "text": [
      "(9994, 13)\n"
     ]
    },
    {
     "data": {
      "text/plain": [
       "Ship Mode       0\n",
       "Segment         0\n",
       "Country         0\n",
       "City            0\n",
       "State           0\n",
       "Postal Code     0\n",
       "Region          0\n",
       "Category        0\n",
       "Sub-Category    0\n",
       "Sales           0\n",
       "Quantity        0\n",
       "Discount        0\n",
       "Profit          0\n",
       "dtype: int64"
      ]
     },
     "execution_count": 62,
     "metadata": {},
     "output_type": "execute_result"
    }
   ],
   "source": [
    "print(data.shape)\n",
    "# checking for null values\n",
    "data.isnull().sum()"
   ]
  },
  {
   "cell_type": "code",
   "execution_count": 63,
   "metadata": {},
   "outputs": [
    {
     "name": "stdout",
     "output_type": "stream",
     "text": [
      "(9994, 9)\n"
     ]
    }
   ],
   "source": [
    "data=data[['Ship Mode','Segment','State','Category','Sub-Category','Sales','Quantity','Discount','Profit']]\n",
    "data.columns = ['ShipMode','Segment','State','Category','SubCategory','Sales','Quantity','Discount','Profit']\n",
    "print(data.shape)"
   ]
  },
  {
   "cell_type": "markdown",
   "metadata": {},
   "source": [
    "### Converting categorical-valued attributes to numerical values"
   ]
  },
  {
   "cell_type": "code",
   "execution_count": 64,
   "metadata": {},
   "outputs": [
    {
     "name": "stdout",
     "output_type": "stream",
     "text": [
      "         ShipMode    Segment       State         Category SubCategory  \\\n",
      "0    Second Class   Consumer    Kentucky        Furniture   Bookcases   \n",
      "1    Second Class   Consumer    Kentucky        Furniture      Chairs   \n",
      "2    Second Class  Corporate  California  Office Supplies      Labels   \n",
      "3  Standard Class   Consumer     Florida        Furniture      Tables   \n",
      "4  Standard Class   Consumer     Florida  Office Supplies     Storage   \n",
      "\n",
      "      Sales  Quantity  Discount    Profit  ShipModeCode  SegmentCode  \\\n",
      "0  261.9600         2      0.00   41.9136             2            0   \n",
      "1  731.9400         3      0.00  219.5820             2            0   \n",
      "2   14.6200         2      0.00    6.8714             2            1   \n",
      "3  957.5775         5      0.45 -383.0310             3            0   \n",
      "4   22.3680         2      0.20    2.5164             3            0   \n",
      "\n",
      "   StateCode  CategoryCode  SubCategoryCode  \n",
      "0         15             0                4  \n",
      "1         15             0                5  \n",
      "2          3             1               10  \n",
      "3          8             0               16  \n",
      "4          8             1               14  \n"
     ]
    },
    {
     "name": "stderr",
     "output_type": "stream",
     "text": [
      "c:\\users\\hp\\appdata\\local\\programs\\python\\python38-32\\lib\\site-packages\\pandas\\core\\generic.py:5165: SettingWithCopyWarning: \n",
      "A value is trying to be set on a copy of a slice from a DataFrame.\n",
      "Try using .loc[row_indexer,col_indexer] = value instead\n",
      "\n",
      "See the caveats in the documentation: https://pandas.pydata.org/pandas-docs/stable/user_guide/indexing.html#returning-a-view-versus-a-copy\n",
      "  self[name] = value\n",
      "<ipython-input-64-31bf2da863ed>:7: SettingWithCopyWarning: \n",
      "A value is trying to be set on a copy of a slice from a DataFrame.\n",
      "Try using .loc[row_indexer,col_indexer] = value instead\n",
      "\n",
      "See the caveats in the documentation: https://pandas.pydata.org/pandas-docs/stable/user_guide/indexing.html#returning-a-view-versus-a-copy\n",
      "  data['ShipModeCode'] = data.ShipMode.cat.codes\n",
      "<ipython-input-64-31bf2da863ed>:8: SettingWithCopyWarning: \n",
      "A value is trying to be set on a copy of a slice from a DataFrame.\n",
      "Try using .loc[row_indexer,col_indexer] = value instead\n",
      "\n",
      "See the caveats in the documentation: https://pandas.pydata.org/pandas-docs/stable/user_guide/indexing.html#returning-a-view-versus-a-copy\n",
      "  data['SegmentCode'] = data.Segment.cat.codes\n",
      "<ipython-input-64-31bf2da863ed>:9: SettingWithCopyWarning: \n",
      "A value is trying to be set on a copy of a slice from a DataFrame.\n",
      "Try using .loc[row_indexer,col_indexer] = value instead\n",
      "\n",
      "See the caveats in the documentation: https://pandas.pydata.org/pandas-docs/stable/user_guide/indexing.html#returning-a-view-versus-a-copy\n",
      "  data['StateCode'] = data.State.cat.codes\n"
     ]
    }
   ],
   "source": [
    "data.ShipMode = pd.Categorical(data.ShipMode)\n",
    "data.Segment = pd.Categorical(data.Segment)\n",
    "data.State = pd.Categorical(data.State)\n",
    "data.Category = pd.Categorical(data.Category)\n",
    "data.SubCategory = pd.Categorical(data.SubCategory)\n",
    "\n",
    "data['ShipModeCode'] = data.ShipMode.cat.codes\n",
    "data['SegmentCode'] = data.Segment.cat.codes\n",
    "data['StateCode'] = data.State.cat.codes\n",
    "data['CategoryCode'] = data.Category.cat.codes\n",
    "data['SubCategoryCode'] = data.SubCategory.cat.codes\n",
    "print(data.head(5))"
   ]
  },
  {
   "cell_type": "code",
   "execution_count": 65,
   "metadata": {},
   "outputs": [
    {
     "name": "stdout",
     "output_type": "stream",
     "text": [
      "   ShipModeCode  SegmentCode  StateCode  CategoryCode     Sales  Quantity  \\\n",
      "0             2            0         15             0  261.9600         2   \n",
      "1             2            0         15             0  731.9400         3   \n",
      "2             2            1          3             1   14.6200         2   \n",
      "3             3            0          8             0  957.5775         5   \n",
      "4             3            0          8             1   22.3680         2   \n",
      "\n",
      "   Discount    Profit  \n",
      "0      0.00   41.9136  \n",
      "1      0.00  219.5820  \n",
      "2      0.00    6.8714  \n",
      "3      0.45 -383.0310  \n",
      "4      0.20    2.5164  \n"
     ]
    }
   ],
   "source": [
    "data=data[['ShipModeCode','SegmentCode','StateCode','CategoryCode','Sales','Quantity','Discount','Profit']]\n",
    "print(data.head(5))"
   ]
  },
  {
   "cell_type": "code",
   "execution_count": 66,
   "metadata": {},
   "outputs": [
    {
     "data": {
      "text/html": [
       "<div>\n",
       "<style scoped>\n",
       "    .dataframe tbody tr th:only-of-type {\n",
       "        vertical-align: middle;\n",
       "    }\n",
       "\n",
       "    .dataframe tbody tr th {\n",
       "        vertical-align: top;\n",
       "    }\n",
       "\n",
       "    .dataframe thead th {\n",
       "        text-align: right;\n",
       "    }\n",
       "</style>\n",
       "<table border=\"1\" class=\"dataframe\">\n",
       "  <thead>\n",
       "    <tr style=\"text-align: right;\">\n",
       "      <th></th>\n",
       "      <th>ShipModeCode</th>\n",
       "      <th>SegmentCode</th>\n",
       "      <th>StateCode</th>\n",
       "      <th>CategoryCode</th>\n",
       "      <th>Sales</th>\n",
       "      <th>Quantity</th>\n",
       "      <th>Discount</th>\n",
       "      <th>Profit</th>\n",
       "    </tr>\n",
       "  </thead>\n",
       "  <tbody>\n",
       "    <tr>\n",
       "      <th>count</th>\n",
       "      <td>9994.000000</td>\n",
       "      <td>9994.000000</td>\n",
       "      <td>9994.000000</td>\n",
       "      <td>9994.000000</td>\n",
       "      <td>9994.000000</td>\n",
       "      <td>9994.000000</td>\n",
       "      <td>9994.000000</td>\n",
       "      <td>9994.000000</td>\n",
       "    </tr>\n",
       "    <tr>\n",
       "      <th>mean</th>\n",
       "      <td>2.235041</td>\n",
       "      <td>0.658995</td>\n",
       "      <td>22.343206</td>\n",
       "      <td>0.972584</td>\n",
       "      <td>229.858001</td>\n",
       "      <td>3.789574</td>\n",
       "      <td>0.156203</td>\n",
       "      <td>28.656896</td>\n",
       "    </tr>\n",
       "    <tr>\n",
       "      <th>std</th>\n",
       "      <td>1.100880</td>\n",
       "      <td>0.762622</td>\n",
       "      <td>15.504611</td>\n",
       "      <td>0.629544</td>\n",
       "      <td>623.245101</td>\n",
       "      <td>2.225110</td>\n",
       "      <td>0.206452</td>\n",
       "      <td>234.260108</td>\n",
       "    </tr>\n",
       "    <tr>\n",
       "      <th>min</th>\n",
       "      <td>0.000000</td>\n",
       "      <td>0.000000</td>\n",
       "      <td>0.000000</td>\n",
       "      <td>0.000000</td>\n",
       "      <td>0.444000</td>\n",
       "      <td>1.000000</td>\n",
       "      <td>0.000000</td>\n",
       "      <td>-6599.978000</td>\n",
       "    </tr>\n",
       "    <tr>\n",
       "      <th>25%</th>\n",
       "      <td>2.000000</td>\n",
       "      <td>0.000000</td>\n",
       "      <td>4.000000</td>\n",
       "      <td>1.000000</td>\n",
       "      <td>17.280000</td>\n",
       "      <td>2.000000</td>\n",
       "      <td>0.000000</td>\n",
       "      <td>1.728750</td>\n",
       "    </tr>\n",
       "    <tr>\n",
       "      <th>50%</th>\n",
       "      <td>3.000000</td>\n",
       "      <td>0.000000</td>\n",
       "      <td>27.000000</td>\n",
       "      <td>1.000000</td>\n",
       "      <td>54.490000</td>\n",
       "      <td>3.000000</td>\n",
       "      <td>0.200000</td>\n",
       "      <td>8.666500</td>\n",
       "    </tr>\n",
       "    <tr>\n",
       "      <th>75%</th>\n",
       "      <td>3.000000</td>\n",
       "      <td>1.000000</td>\n",
       "      <td>36.000000</td>\n",
       "      <td>1.000000</td>\n",
       "      <td>209.940000</td>\n",
       "      <td>5.000000</td>\n",
       "      <td>0.200000</td>\n",
       "      <td>29.364000</td>\n",
       "    </tr>\n",
       "    <tr>\n",
       "      <th>max</th>\n",
       "      <td>3.000000</td>\n",
       "      <td>2.000000</td>\n",
       "      <td>48.000000</td>\n",
       "      <td>2.000000</td>\n",
       "      <td>22638.480000</td>\n",
       "      <td>14.000000</td>\n",
       "      <td>0.800000</td>\n",
       "      <td>8399.976000</td>\n",
       "    </tr>\n",
       "  </tbody>\n",
       "</table>\n",
       "</div>"
      ],
      "text/plain": [
       "       ShipModeCode  SegmentCode    StateCode  CategoryCode         Sales  \\\n",
       "count   9994.000000  9994.000000  9994.000000   9994.000000   9994.000000   \n",
       "mean       2.235041     0.658995    22.343206      0.972584    229.858001   \n",
       "std        1.100880     0.762622    15.504611      0.629544    623.245101   \n",
       "min        0.000000     0.000000     0.000000      0.000000      0.444000   \n",
       "25%        2.000000     0.000000     4.000000      1.000000     17.280000   \n",
       "50%        3.000000     0.000000    27.000000      1.000000     54.490000   \n",
       "75%        3.000000     1.000000    36.000000      1.000000    209.940000   \n",
       "max        3.000000     2.000000    48.000000      2.000000  22638.480000   \n",
       "\n",
       "          Quantity     Discount       Profit  \n",
       "count  9994.000000  9994.000000  9994.000000  \n",
       "mean      3.789574     0.156203    28.656896  \n",
       "std       2.225110     0.206452   234.260108  \n",
       "min       1.000000     0.000000 -6599.978000  \n",
       "25%       2.000000     0.000000     1.728750  \n",
       "50%       3.000000     0.200000     8.666500  \n",
       "75%       5.000000     0.200000    29.364000  \n",
       "max      14.000000     0.800000  8399.976000  "
      ]
     },
     "execution_count": 66,
     "metadata": {},
     "output_type": "execute_result"
    }
   ],
   "source": [
    "data.describe()"
   ]
  },
  {
   "cell_type": "markdown",
   "metadata": {},
   "source": [
    "### Using correlation matrix to identify important features that impact Profit"
   ]
  },
  {
   "cell_type": "code",
   "execution_count": 67,
   "metadata": {},
   "outputs": [
    {
     "data": {
      "image/png": "[encoded data removed]",
      "text/plain": [
       "<Figure size 720x720 with 2 Axes>"
      ]
     },
     "metadata": {
      "needs_background": "light"
     },
     "output_type": "display_data"
    }
   ],
   "source": [
    "import seaborn as sns\n",
    "fig, ax = plt.subplots(figsize=(10,10))\n",
    "corrM = data.corr()\n",
    " \n",
    "ax.tick_params(axis='x', colors='black')\n",
    "ax.tick_params(axis='y', colors='black')\n",
    "#plot heat map\n",
    "g=sns.heatmap(corrM,annot=True,cmap=\"RdYlGn\")"
   ]
  },
  {
   "cell_type": "markdown",
   "metadata": {},
   "source": [
    "### From the correlation matrix it can be seen that Sales > Category > Quantity play significant role in determining Profit "
   ]
  },
  {
   "cell_type": "code",
   "execution_count": 68,
   "metadata": {},
   "outputs": [
    {
     "data": {
      "text/html": [
       "<div>\n",
       "<style scoped>\n",
       "    .dataframe tbody tr th:only-of-type {\n",
       "        vertical-align: middle;\n",
       "    }\n",
       "\n",
       "    .dataframe tbody tr th {\n",
       "        vertical-align: top;\n",
       "    }\n",
       "\n",
       "    .dataframe thead th {\n",
       "        text-align: right;\n",
       "    }\n",
       "</style>\n",
       "<table border=\"1\" class=\"dataframe\">\n",
       "  <thead>\n",
       "    <tr style=\"text-align: right;\">\n",
       "      <th></th>\n",
       "      <th>ShipModeCode</th>\n",
       "      <th>SegmentCode</th>\n",
       "      <th>StateCode</th>\n",
       "      <th>CategoryCode</th>\n",
       "      <th>Sales</th>\n",
       "      <th>Quantity</th>\n",
       "      <th>Discount</th>\n",
       "      <th>Profit</th>\n",
       "    </tr>\n",
       "  </thead>\n",
       "  <tbody>\n",
       "    <tr>\n",
       "      <th>count</th>\n",
       "      <td>9994.000000</td>\n",
       "      <td>9994.000000</td>\n",
       "      <td>9994.000000</td>\n",
       "      <td>9994.000000</td>\n",
       "      <td>9994.000000</td>\n",
       "      <td>9994.000000</td>\n",
       "      <td>9994.000000</td>\n",
       "      <td>9994.000000</td>\n",
       "    </tr>\n",
       "    <tr>\n",
       "      <th>mean</th>\n",
       "      <td>2.235041</td>\n",
       "      <td>0.658995</td>\n",
       "      <td>22.343206</td>\n",
       "      <td>0.972584</td>\n",
       "      <td>229.858001</td>\n",
       "      <td>3.789574</td>\n",
       "      <td>0.156203</td>\n",
       "      <td>28.656896</td>\n",
       "    </tr>\n",
       "    <tr>\n",
       "      <th>std</th>\n",
       "      <td>1.100880</td>\n",
       "      <td>0.762622</td>\n",
       "      <td>15.504611</td>\n",
       "      <td>0.629544</td>\n",
       "      <td>623.245101</td>\n",
       "      <td>2.225110</td>\n",
       "      <td>0.206452</td>\n",
       "      <td>234.260108</td>\n",
       "    </tr>\n",
       "    <tr>\n",
       "      <th>min</th>\n",
       "      <td>0.000000</td>\n",
       "      <td>0.000000</td>\n",
       "      <td>0.000000</td>\n",
       "      <td>0.000000</td>\n",
       "      <td>0.444000</td>\n",
       "      <td>1.000000</td>\n",
       "      <td>0.000000</td>\n",
       "      <td>-6599.978000</td>\n",
       "    </tr>\n",
       "    <tr>\n",
       "      <th>25%</th>\n",
       "      <td>2.000000</td>\n",
       "      <td>0.000000</td>\n",
       "      <td>4.000000</td>\n",
       "      <td>1.000000</td>\n",
       "      <td>17.280000</td>\n",
       "      <td>2.000000</td>\n",
       "      <td>0.000000</td>\n",
       "      <td>1.728750</td>\n",
       "    </tr>\n",
       "    <tr>\n",
       "      <th>50%</th>\n",
       "      <td>3.000000</td>\n",
       "      <td>0.000000</td>\n",
       "      <td>27.000000</td>\n",
       "      <td>1.000000</td>\n",
       "      <td>54.490000</td>\n",
       "      <td>3.000000</td>\n",
       "      <td>0.200000</td>\n",
       "      <td>8.666500</td>\n",
       "    </tr>\n",
       "    <tr>\n",
       "      <th>75%</th>\n",
       "      <td>3.000000</td>\n",
       "      <td>1.000000</td>\n",
       "      <td>36.000000</td>\n",
       "      <td>1.000000</td>\n",
       "      <td>209.940000</td>\n",
       "      <td>5.000000</td>\n",
       "      <td>0.200000</td>\n",
       "      <td>29.364000</td>\n",
       "    </tr>\n",
       "    <tr>\n",
       "      <th>max</th>\n",
       "      <td>3.000000</td>\n",
       "      <td>2.000000</td>\n",
       "      <td>48.000000</td>\n",
       "      <td>2.000000</td>\n",
       "      <td>22638.480000</td>\n",
       "      <td>14.000000</td>\n",
       "      <td>0.800000</td>\n",
       "      <td>8399.976000</td>\n",
       "    </tr>\n",
       "  </tbody>\n",
       "</table>\n",
       "</div>"
      ],
      "text/plain": [
       "       ShipModeCode  SegmentCode    StateCode  CategoryCode         Sales  \\\n",
       "count   9994.000000  9994.000000  9994.000000   9994.000000   9994.000000   \n",
       "mean       2.235041     0.658995    22.343206      0.972584    229.858001   \n",
       "std        1.100880     0.762622    15.504611      0.629544    623.245101   \n",
       "min        0.000000     0.000000     0.000000      0.000000      0.444000   \n",
       "25%        2.000000     0.000000     4.000000      1.000000     17.280000   \n",
       "50%        3.000000     0.000000    27.000000      1.000000     54.490000   \n",
       "75%        3.000000     1.000000    36.000000      1.000000    209.940000   \n",
       "max        3.000000     2.000000    48.000000      2.000000  22638.480000   \n",
       "\n",
       "          Quantity     Discount       Profit  \n",
       "count  9994.000000  9994.000000  9994.000000  \n",
       "mean      3.789574     0.156203    28.656896  \n",
       "std       2.225110     0.206452   234.260108  \n",
       "min       1.000000     0.000000 -6599.978000  \n",
       "25%       2.000000     0.000000     1.728750  \n",
       "50%       3.000000     0.200000     8.666500  \n",
       "75%       5.000000     0.200000    29.364000  \n",
       "max      14.000000     0.800000  8399.976000  "
      ]
     },
     "execution_count": 68,
     "metadata": {},
     "output_type": "execute_result"
    }
   ],
   "source": [
    "data.describe()\n",
    "# [0:ShipModeCode,1:SegmentCode,2:StateCode,3:CategoryCode,4:Sales,5:Quantity,6:Discount,7:Profit]"
   ]
  },
  {
   "cell_type": "code",
   "execution_count": 69,
   "metadata": {},
   "outputs": [],
   "source": [
    "from sklearn.datasets import make_classification\n",
    "from sklearn.neighbors import KNeighborsClassifier\n",
    "from sklearn.inspection import permutation_importance\n",
    "from matplotlib import pyplot\n",
    "from sklearn import preprocessing\n",
    "\n",
    "X = data.drop(['Profit'],axis=1).values.tolist()\n",
    "y = data['Profit'].values.tolist()\n",
    "\n",
    "lab_enc = preprocessing.LabelEncoder()\n",
    "y = lab_enc.fit_transform(y)\n"
   ]
  },
  {
   "cell_type": "markdown",
   "metadata": {},
   "source": [
    "### Using K-Neighbour Classifier to identify important features and printing their importance scores"
   ]
  },
  {
   "cell_type": "code",
   "execution_count": 70,
   "metadata": {},
   "outputs": [
    {
     "name": "stdout",
     "output_type": "stream",
     "text": [
      "Feature: 0, Score: 0.02588\n",
      "Feature: 1, Score: 0.01069\n",
      "Feature: 2, Score: 0.18657\n",
      "Feature: 3, Score: 0.00232\n",
      "Feature: 4, Score: 0.24627\n",
      "Feature: 5, Score: 0.08225\n",
      "Feature: 6, Score: -0.00274\n"
     ]
    },
    {
     "data": {
      "image/png": "[encoded data removed]",
      "text/plain": [
       "<Figure size 432x288 with 1 Axes>"
      ]
     },
     "metadata": {
      "needs_background": "light"
     },
     "output_type": "display_data"
    }
   ],
   "source": [
    "# define the model\n",
    "model = KNeighborsClassifier()\n",
    "# fit the model\n",
    "model.fit(X, y)\n",
    "# perform permutation importance\n",
    "results = permutation_importance(model, X, y, scoring='accuracy')\n",
    "# get importance\n",
    "importance = results.importances_mean\n",
    "# summarize feature importance\n",
    "for i,v in enumerate(importance):\n",
    "\tprint('Feature: %0d, Score: %.5f' % (i,v))\n",
    "# plot feature importance\n",
    "pyplot.bar([x for x in range(len(importance))], importance)\n",
    "pyplot.show()"
   ]
  },
  {
   "cell_type": "markdown",
   "metadata": {},
   "source": [
    "### Sales > State > Quantity impact Profit"
   ]
  },
  {
   "cell_type": "markdown",
   "metadata": {},
   "source": [
    "### Using K-Neighbour Regressor to identify important features and printing their importance scores"
   ]
  },
  {
   "cell_type": "code",
   "execution_count": 71,
   "metadata": {},
   "outputs": [
    {
     "name": "stdout",
     "output_type": "stream",
     "text": [
      "Feature: 0, Score: 25874.10101\n",
      "Feature: 1, Score: -1063.42029\n",
      "Feature: 2, Score: 1458215.38587\n",
      "Feature: 3, Score: 40413.65697\n",
      "Feature: 4, Score: 3186578.21341\n",
      "Feature: 5, Score: 258396.02520\n",
      "Feature: 6, Score: 16890.71142\n"
     ]
    },
    {
     "data": {
      "image/png": "[encoded data removed]",
      "text/plain": [
       "<Figure size 432x288 with 1 Axes>"
      ]
     },
     "metadata": {
      "needs_background": "light"
     },
     "output_type": "display_data"
    }
   ],
   "source": [
    "\n",
    "# permutation feature importance with knn for regression\n",
    "from sklearn.datasets import make_regression\n",
    "from sklearn.neighbors import KNeighborsRegressor\n",
    "from sklearn.inspection import permutation_importance\n",
    "from matplotlib import pyplot\n",
    "\n",
    "# define the model\n",
    "model = KNeighborsRegressor()\n",
    "# fit the model\n",
    "model.fit(X, y)\n",
    "# perform permutation importance\n",
    "results = permutation_importance(model, X, y, scoring='neg_mean_squared_error')\n",
    "# get importance\n",
    "importance = results.importances_mean\n",
    "# summarize feature importance\n",
    "for i,v in enumerate(importance):\n",
    "\tprint('Feature: %0d, Score: %.5f' % (i,v))\n",
    "# plot feature importance\n",
    "pyplot.bar([x for x in range(len(importance))], importance)\n",
    "pyplot.show()"
   ]
  },
  {
   "cell_type": "markdown",
   "metadata": {},
   "source": [
    "### Sales > State > Quantity impact Profit"
   ]
  },
  {
   "cell_type": "markdown",
   "metadata": {},
   "source": [
    "### Using Decision Tree Classifier to identify the important features"
   ]
  },
  {
   "cell_type": "code",
   "execution_count": 72,
   "metadata": {},
   "outputs": [
    {
     "name": "stdout",
     "output_type": "stream",
     "text": [
      "Feature: 0, Score: 0.01606\n",
      "Feature: 1, Score: 0.02148\n",
      "Feature: 2, Score: 0.05590\n",
      "Feature: 3, Score: 0.04703\n",
      "Feature: 4, Score: 0.75024\n",
      "Feature: 5, Score: 0.07140\n",
      "Feature: 6, Score: 0.03789\n"
     ]
    },
    {
     "data": {
      "image/png": "[encoded data removed]",
      "text/plain": [
       "<Figure size 432x288 with 1 Axes>"
      ]
     },
     "metadata": {
      "needs_background": "light"
     },
     "output_type": "display_data"
    }
   ],
   "source": [
    "\n",
    "# random forest for feature importance on a classification problem\n",
    "from sklearn.datasets import make_classification\n",
    "from sklearn.tree import DecisionTreeClassifier\n",
    "from matplotlib import pyplot\n",
    "# define the model\n",
    "model = DecisionTreeClassifier(max_depth=10,max_features=6, min_samples_split=3, min_samples_leaf=2)\n",
    "# fit the model\n",
    "model.fit(X, y)\n",
    "# get importance\n",
    "importance = model.feature_importances_\n",
    "# summarize feature importance\n",
    "for i,v in enumerate(importance):\n",
    "\tprint('Feature: %0d, Score: %.5f' % (i,v))\n",
    "# plot feature importance\n",
    "pyplot.bar([x for x in range(len(importance))], importance)\n",
    "pyplot.show()\n",
    "\n",
    "\n",
    "# [0:ShipModeCode,1:SegmentCode,2:StateCode,3:CategoryCode,4:Sales,5:Quantity,6:Discount,7:Profit]"
   ]
  },
  {
   "cell_type": "markdown",
   "metadata": {},
   "source": [
    "### Sales > Discount > State impact Profit"
   ]
  },
  {
   "cell_type": "markdown",
   "metadata": {},
   "source": [
    "### Using Random Forest Classifier and Regressor to identify important features\n",
    "#### The parameters of the models have been adjusted to avoid memory leaks and obtain reliable results"
   ]
  },
  {
   "cell_type": "code",
   "execution_count": 73,
   "metadata": {},
   "outputs": [
    {
     "name": "stdout",
     "output_type": "stream",
     "text": [
      "Feature: 0, Score: 0.00596\n",
      "Feature: 1, Score: 0.00439\n",
      "Feature: 2, Score: 0.01940\n",
      "Feature: 3, Score: 0.03542\n",
      "Feature: 4, Score: 0.44914\n",
      "Feature: 5, Score: 0.02650\n",
      "Feature: 6, Score: 0.45918\n"
     ]
    },
    {
     "data": {
      "image/png": "[encoded data removed]",
      "text/plain": [
       "<Figure size 432x288 with 1 Axes>"
      ]
     },
     "metadata": {
      "needs_background": "light"
     },
     "output_type": "display_data"
    }
   ],
   "source": [
    "from sklearn.ensemble import RandomForestRegressor\n",
    "from sklearn.ensemble import RandomForestClassifier\n",
    "model = RandomForestRegressor(max_depth=10,max_features=6, min_samples_split=3, min_samples_leaf=2)\n",
    "# fit the model\n",
    "model.fit(X, y)\n",
    "# get importance\n",
    "importance = model.feature_importances_\n",
    "# summarize feature importance\n",
    "for i,v in enumerate(importance):\n",
    "\tprint('Feature: %0d, Score: %.5f' % (i,v))\n",
    "# plot feature importance\n",
    "pyplot.bar([x for x in range(len(importance))], importance)\n",
    "pyplot.show()"
   ]
  },
  {
   "cell_type": "markdown",
   "metadata": {},
   "source": [
    "### Analysis : Discount >= Sales > Category impact Profit"
   ]
  },
  {
   "cell_type": "code",
   "execution_count": 74,
   "metadata": {},
   "outputs": [
    {
     "name": "stdout",
     "output_type": "stream",
     "text": [
      "Feature: 0, Score: 0.00413\n",
      "Feature: 1, Score: 0.00424\n",
      "Feature: 2, Score: 0.00702\n",
      "Feature: 3, Score: 0.00482\n",
      "Feature: 4, Score: 0.91523\n",
      "Feature: 5, Score: 0.03775\n",
      "Feature: 6, Score: 0.02681\n"
     ]
    },
    {
     "data": {
      "image/png": "[encoded data removed]",
      "text/plain": [
       "<Figure size 432x288 with 1 Axes>"
      ]
     },
     "metadata": {
      "needs_background": "light"
     },
     "output_type": "display_data"
    }
   ],
   "source": [
    "model = RandomForestClassifier(max_depth=4,max_features=6, min_samples_split=2, min_samples_leaf=2)\n",
    "# fit the model\n",
    "model.fit(X, y)\n",
    "# get importance\n",
    "importance = model.feature_importances_\n",
    "# summarize feature importance\n",
    "for i,v in enumerate(importance):\n",
    "\tprint('Feature: %0d, Score: %.5f' % (i,v))\n",
    "# plot feature importance\n",
    "pyplot.bar([x for x in range(len(importance))], importance)\n",
    "pyplot.show()"
   ]
  },
  {
   "cell_type": "markdown",
   "metadata": {},
   "source": [
    "### Analysis: Sales >> Discount >= Quantity for Profit Impact"
   ]
  },
  {
   "cell_type": "markdown",
   "metadata": {},
   "source": [
    "### Conclusion: From the constructed models it can be inferred that the following attributes: Sales, Discount and State affect Profit the most."
   ]
  },
  {
   "cell_type": "code",
   "execution_count": 75,
   "metadata": {},
   "outputs": [
    {
     "data": {
      "text/html": [
       "<div>\n",
       "<style scoped>\n",
       "    .dataframe tbody tr th:only-of-type {\n",
       "        vertical-align: middle;\n",
       "    }\n",
       "\n",
       "    .dataframe tbody tr th {\n",
       "        vertical-align: top;\n",
       "    }\n",
       "\n",
       "    .dataframe thead th {\n",
       "        text-align: right;\n",
       "    }\n",
       "</style>\n",
       "<table border=\"1\" class=\"dataframe\">\n",
       "  <thead>\n",
       "    <tr style=\"text-align: right;\">\n",
       "      <th></th>\n",
       "      <th>Ship Mode</th>\n",
       "      <th>Segment</th>\n",
       "      <th>Country</th>\n",
       "      <th>City</th>\n",
       "      <th>State</th>\n",
       "      <th>Postal Code</th>\n",
       "      <th>Region</th>\n",
       "      <th>Category</th>\n",
       "      <th>Sub-Category</th>\n",
       "      <th>Sales</th>\n",
       "      <th>Quantity</th>\n",
       "      <th>Discount</th>\n",
       "      <th>Profit</th>\n",
       "    </tr>\n",
       "  </thead>\n",
       "  <tbody>\n",
       "    <tr>\n",
       "      <th>0</th>\n",
       "      <td>Second Class</td>\n",
       "      <td>Consumer</td>\n",
       "      <td>United States</td>\n",
       "      <td>Henderson</td>\n",
       "      <td>Kentucky</td>\n",
       "      <td>42420</td>\n",
       "      <td>South</td>\n",
       "      <td>Furniture</td>\n",
       "      <td>Bookcases</td>\n",
       "      <td>261.9600</td>\n",
       "      <td>2</td>\n",
       "      <td>0.00</td>\n",
       "      <td>41.9136</td>\n",
       "    </tr>\n",
       "    <tr>\n",
       "      <th>1</th>\n",
       "      <td>Second Class</td>\n",
       "      <td>Consumer</td>\n",
       "      <td>United States</td>\n",
       "      <td>Henderson</td>\n",
       "      <td>Kentucky</td>\n",
       "      <td>42420</td>\n",
       "      <td>South</td>\n",
       "      <td>Furniture</td>\n",
       "      <td>Chairs</td>\n",
       "      <td>731.9400</td>\n",
       "      <td>3</td>\n",
       "      <td>0.00</td>\n",
       "      <td>219.5820</td>\n",
       "    </tr>\n",
       "    <tr>\n",
       "      <th>2</th>\n",
       "      <td>Second Class</td>\n",
       "      <td>Corporate</td>\n",
       "      <td>United States</td>\n",
       "      <td>Los Angeles</td>\n",
       "      <td>California</td>\n",
       "      <td>90036</td>\n",
       "      <td>West</td>\n",
       "      <td>Office Supplies</td>\n",
       "      <td>Labels</td>\n",
       "      <td>14.6200</td>\n",
       "      <td>2</td>\n",
       "      <td>0.00</td>\n",
       "      <td>6.8714</td>\n",
       "    </tr>\n",
       "    <tr>\n",
       "      <th>3</th>\n",
       "      <td>Standard Class</td>\n",
       "      <td>Consumer</td>\n",
       "      <td>United States</td>\n",
       "      <td>Fort Lauderdale</td>\n",
       "      <td>Florida</td>\n",
       "      <td>33311</td>\n",
       "      <td>South</td>\n",
       "      <td>Furniture</td>\n",
       "      <td>Tables</td>\n",
       "      <td>957.5775</td>\n",
       "      <td>5</td>\n",
       "      <td>0.45</td>\n",
       "      <td>-383.0310</td>\n",
       "    </tr>\n",
       "    <tr>\n",
       "      <th>4</th>\n",
       "      <td>Standard Class</td>\n",
       "      <td>Consumer</td>\n",
       "      <td>United States</td>\n",
       "      <td>Fort Lauderdale</td>\n",
       "      <td>Florida</td>\n",
       "      <td>33311</td>\n",
       "      <td>South</td>\n",
       "      <td>Office Supplies</td>\n",
       "      <td>Storage</td>\n",
       "      <td>22.3680</td>\n",
       "      <td>2</td>\n",
       "      <td>0.20</td>\n",
       "      <td>2.5164</td>\n",
       "    </tr>\n",
       "    <tr>\n",
       "      <th>...</th>\n",
       "      <td>...</td>\n",
       "      <td>...</td>\n",
       "      <td>...</td>\n",
       "      <td>...</td>\n",
       "      <td>...</td>\n",
       "      <td>...</td>\n",
       "      <td>...</td>\n",
       "      <td>...</td>\n",
       "      <td>...</td>\n",
       "      <td>...</td>\n",
       "      <td>...</td>\n",
       "      <td>...</td>\n",
       "      <td>...</td>\n",
       "    </tr>\n",
       "    <tr>\n",
       "      <th>9989</th>\n",
       "      <td>Second Class</td>\n",
       "      <td>Consumer</td>\n",
       "      <td>United States</td>\n",
       "      <td>Miami</td>\n",
       "      <td>Florida</td>\n",
       "      <td>33180</td>\n",
       "      <td>South</td>\n",
       "      <td>Furniture</td>\n",
       "      <td>Furnishings</td>\n",
       "      <td>25.2480</td>\n",
       "      <td>3</td>\n",
       "      <td>0.20</td>\n",
       "      <td>4.1028</td>\n",
       "    </tr>\n",
       "    <tr>\n",
       "      <th>9990</th>\n",
       "      <td>Standard Class</td>\n",
       "      <td>Consumer</td>\n",
       "      <td>United States</td>\n",
       "      <td>Costa Mesa</td>\n",
       "      <td>California</td>\n",
       "      <td>92627</td>\n",
       "      <td>West</td>\n",
       "      <td>Furniture</td>\n",
       "      <td>Furnishings</td>\n",
       "      <td>91.9600</td>\n",
       "      <td>2</td>\n",
       "      <td>0.00</td>\n",
       "      <td>15.6332</td>\n",
       "    </tr>\n",
       "    <tr>\n",
       "      <th>9991</th>\n",
       "      <td>Standard Class</td>\n",
       "      <td>Consumer</td>\n",
       "      <td>United States</td>\n",
       "      <td>Costa Mesa</td>\n",
       "      <td>California</td>\n",
       "      <td>92627</td>\n",
       "      <td>West</td>\n",
       "      <td>Technology</td>\n",
       "      <td>Phones</td>\n",
       "      <td>258.5760</td>\n",
       "      <td>2</td>\n",
       "      <td>0.20</td>\n",
       "      <td>19.3932</td>\n",
       "    </tr>\n",
       "    <tr>\n",
       "      <th>9992</th>\n",
       "      <td>Standard Class</td>\n",
       "      <td>Consumer</td>\n",
       "      <td>United States</td>\n",
       "      <td>Costa Mesa</td>\n",
       "      <td>California</td>\n",
       "      <td>92627</td>\n",
       "      <td>West</td>\n",
       "      <td>Office Supplies</td>\n",
       "      <td>Paper</td>\n",
       "      <td>29.6000</td>\n",
       "      <td>4</td>\n",
       "      <td>0.00</td>\n",
       "      <td>13.3200</td>\n",
       "    </tr>\n",
       "    <tr>\n",
       "      <th>9993</th>\n",
       "      <td>Second Class</td>\n",
       "      <td>Consumer</td>\n",
       "      <td>United States</td>\n",
       "      <td>Westminster</td>\n",
       "      <td>California</td>\n",
       "      <td>92683</td>\n",
       "      <td>West</td>\n",
       "      <td>Office Supplies</td>\n",
       "      <td>Appliances</td>\n",
       "      <td>243.1600</td>\n",
       "      <td>2</td>\n",
       "      <td>0.00</td>\n",
       "      <td>72.9480</td>\n",
       "    </tr>\n",
       "  </tbody>\n",
       "</table>\n",
       "<p>9994 rows × 13 columns</p>\n",
       "</div>"
      ],
      "text/plain": [
       "           Ship Mode    Segment        Country             City       State  \\\n",
       "0       Second Class   Consumer  United States        Henderson    Kentucky   \n",
       "1       Second Class   Consumer  United States        Henderson    Kentucky   \n",
       "2       Second Class  Corporate  United States      Los Angeles  California   \n",
       "3     Standard Class   Consumer  United States  Fort Lauderdale     Florida   \n",
       "4     Standard Class   Consumer  United States  Fort Lauderdale     Florida   \n",
       "...              ...        ...            ...              ...         ...   \n",
       "9989    Second Class   Consumer  United States            Miami     Florida   \n",
       "9990  Standard Class   Consumer  United States       Costa Mesa  California   \n",
       "9991  Standard Class   Consumer  United States       Costa Mesa  California   \n",
       "9992  Standard Class   Consumer  United States       Costa Mesa  California   \n",
       "9993    Second Class   Consumer  United States      Westminster  California   \n",
       "\n",
       "      Postal Code Region         Category Sub-Category     Sales  Quantity  \\\n",
       "0           42420  South        Furniture    Bookcases  261.9600         2   \n",
       "1           42420  South        Furniture       Chairs  731.9400         3   \n",
       "2           90036   West  Office Supplies       Labels   14.6200         2   \n",
       "3           33311  South        Furniture       Tables  957.5775         5   \n",
       "4           33311  South  Office Supplies      Storage   22.3680         2   \n",
       "...           ...    ...              ...          ...       ...       ...   \n",
       "9989        33180  South        Furniture  Furnishings   25.2480         3   \n",
       "9990        92627   West        Furniture  Furnishings   91.9600         2   \n",
       "9991        92627   West       Technology       Phones  258.5760         2   \n",
       "9992        92627   West  Office Supplies        Paper   29.6000         4   \n",
       "9993        92683   West  Office Supplies   Appliances  243.1600         2   \n",
       "\n",
       "      Discount    Profit  \n",
       "0         0.00   41.9136  \n",
       "1         0.00  219.5820  \n",
       "2         0.00    6.8714  \n",
       "3         0.45 -383.0310  \n",
       "4         0.20    2.5164  \n",
       "...        ...       ...  \n",
       "9989      0.20    4.1028  \n",
       "9990      0.00   15.6332  \n",
       "9991      0.20   19.3932  \n",
       "9992      0.00   13.3200  \n",
       "9993      0.00   72.9480  \n",
       "\n",
       "[9994 rows x 13 columns]"
      ]
     },
     "execution_count": 75,
     "metadata": {},
     "output_type": "execute_result"
    }
   ],
   "source": [
    "df"
   ]
  },
  {
   "cell_type": "markdown",
   "metadata": {},
   "source": [
    "### Plotting the regional states on which the company can direct its efforts to increase profits"
   ]
  },
  {
   "cell_type": "code",
   "execution_count": 76,
   "metadata": {},
   "outputs": [
    {
     "data": {
      "text/html": [
       "<div>\n",
       "<style scoped>\n",
       "    .dataframe tbody tr th:only-of-type {\n",
       "        vertical-align: middle;\n",
       "    }\n",
       "\n",
       "    .dataframe tbody tr th {\n",
       "        vertical-align: top;\n",
       "    }\n",
       "\n",
       "    .dataframe thead th {\n",
       "        text-align: right;\n",
       "    }\n",
       "</style>\n",
       "<table border=\"1\" class=\"dataframe\">\n",
       "  <thead>\n",
       "    <tr style=\"text-align: right;\">\n",
       "      <th></th>\n",
       "      <th>State</th>\n",
       "      <th>Latitude</th>\n",
       "      <th>Longitude</th>\n",
       "      <th>City</th>\n",
       "    </tr>\n",
       "  </thead>\n",
       "  <tbody>\n",
       "    <tr>\n",
       "      <th>0</th>\n",
       "      <td>AL</td>\n",
       "      <td>32.601011</td>\n",
       "      <td>-86.680736</td>\n",
       "      <td>Alabama</td>\n",
       "    </tr>\n",
       "    <tr>\n",
       "      <th>1</th>\n",
       "      <td>AK</td>\n",
       "      <td>61.302501</td>\n",
       "      <td>-158.775020</td>\n",
       "      <td>Alaska</td>\n",
       "    </tr>\n",
       "    <tr>\n",
       "      <th>2</th>\n",
       "      <td>AZ</td>\n",
       "      <td>34.168219</td>\n",
       "      <td>-111.930907</td>\n",
       "      <td>Arizona</td>\n",
       "    </tr>\n",
       "    <tr>\n",
       "      <th>3</th>\n",
       "      <td>AR</td>\n",
       "      <td>34.751928</td>\n",
       "      <td>-92.131378</td>\n",
       "      <td>Arkansas</td>\n",
       "    </tr>\n",
       "    <tr>\n",
       "      <th>4</th>\n",
       "      <td>CA</td>\n",
       "      <td>37.271875</td>\n",
       "      <td>-119.270415</td>\n",
       "      <td>California</td>\n",
       "    </tr>\n",
       "  </tbody>\n",
       "</table>\n",
       "</div>"
      ],
      "text/plain": [
       "  State   Latitude   Longitude        City\n",
       "0    AL  32.601011  -86.680736     Alabama\n",
       "1    AK  61.302501 -158.775020      Alaska\n",
       "2    AZ  34.168219 -111.930907     Arizona\n",
       "3    AR  34.751928  -92.131378    Arkansas\n",
       "4    CA  37.271875 -119.270415  California"
      ]
     },
     "execution_count": 76,
     "metadata": {},
     "output_type": "execute_result"
    }
   ],
   "source": [
    "import folium\n",
    "map=folium.Map(location=[37.0902,-95.7129],zoom_start=5)\n",
    "states=pd.read_csv('statelatlong.csv')\n",
    "states.head()"
   ]
  },
  {
   "cell_type": "code",
   "execution_count": 77,
   "metadata": {},
   "outputs": [],
   "source": [
    "latitude = 20.0902\n",
    "longitude = -80.7129\n",
    "map = folium.Map(location=[latitude, longitude], zoom_start=4.2)\n",
    "\n",
    "#Red colour for locations with loss and green for locations with profit.\n",
    "def color(temp):\n",
    "  if temp>0:\n",
    "    return 'blue'\n",
    "  else:\n",
    "    return 'red'\n",
    "\n",
    "for city in states['City']:\n",
    "  profit=df.loc[df['State'] == city, 'Profit'].sum()\n",
    "  folium.Marker([states.loc[states['City']==city,'Latitude'].iloc[0],states.loc[states['City']==city,'Longitude'].iloc[0]],\n",
    "                folium.Popup(profit),\n",
    "                icon=folium.Icon(color=color(profit))).add_to(map)"
   ]
  },
  {
   "cell_type": "code",
   "execution_count": 78,
   "metadata": {},
   "outputs": [
    {
     "data": {
      "text/html": [
       "<div style=\"width:100%;\"><div style=\"position:relative;width:100%;height:0;padding-bottom:60%;\"><span style=\"color:#565656\">Make this Notebook Trusted to load map: File -> Trust Notebook</span><iframe src=\"about:blank\" style=\"position:absolute;width:100%;height:100%;left:0;top:0;border:none !important;\" data-html=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 onload=\"this.contentDocument.open();this.contentDocument.write(atob(this.getAttribute('data-html')));this.contentDocument.close();\" allowfullscreen webkitallowfullscreen mozallowfullscreen></iframe></div></div>"
      ],
      "text/plain": [
       "<folium.folium.Map at 0x15102f58>"
      ]
     },
     "execution_count": 78,
     "metadata": {},
     "output_type": "execute_result"
    }
   ],
   "source": [
    "map"
   ]
  },
  {
   "cell_type": "markdown",
   "metadata": {},
   "source": [
    "### From the map it can be observed that states in the East and the South have been facing losses and therefore the company can increase Profits by managing the Sales and Discount in these regions"
   ]
  },
  {
   "cell_type": "markdown",
   "metadata": {},
   "source": [
    "## Task Completed"
   ]
  }
 ],
 "metadata": {
  "kernelspec": {
   "display_name": "Python 3",
   "language": "python",
   "name": "python3"
  },
  "language_info": {
   "codemirror_mode": {
    "name": "ipython",
    "version": 3
   },
   "file_extension": ".py",
   "mimetype": "text/x-python",
   "name": "python",
   "nbconvert_exporter": "python",
   "pygments_lexer": "ipython3",
   "version": "3.8.5"
  }
 },
 "nbformat": 4,
 "nbformat_minor": 4
}
